{
 "cells": [
  {
   "cell_type": "markdown",
   "metadata": {
    "slideshow": {
     "slide_type": "slide"
    }
   },
   "source": [
    "# VinDsl.jl: Fast and furious statistical modeling\n",
    " \n",
    "<img src=\"http://pearsonlab.github.io/images/plab_hex_icon_gray.png\" width=\"150\", align=\"left\", style=\"float:left\">\n",
    "<img src=\"dibs-logo-small.png\" width=\"350\", align=\"left\", style=\"float:right\">\n",
    "\n",
    "<br>\n",
    "John Pearson  \n",
    "P[&lambda;]ab  \n",
    "Duke Institute for Brain Sciences\n",
    "\n"
   ]
  },
  {
   "cell_type": "markdown",
   "metadata": {
    "collapsed": true,
    "slideshow": {
     "slide_type": "slide"
    }
   },
   "source": [
    "# About me\n",
    "\n",
    "<img src=\"http://pearsonlab.github.io/images/plab_logo_dark.svg\" width=\"400\">\n",
    "\n",
    "- computational neuroscience lab at Duke\n",
    "- using Julia for about a year\n",
    "- member of JuliaStats organization"
   ]
  },
  {
   "cell_type": "markdown",
   "metadata": {
    "slideshow": {
     "slide_type": "slide"
    }
   },
   "source": [
    "# Our problem  \n",
    "  \n",
    "<figure style=\"display:inline-block;font-size:50%;float:left\">\n",
    "<img src=\"https://upload.wikimedia.org/wikipedia/commons/thumb/6/6a/Monkey_grooming_02.JPG/640px-Monkey_grooming_02.JPG\" width=400 align=left>\n",
    "<figcaption>By AKS.9955, via Wikimedia Commons</figcaption>\n",
    "</figure>\n",
    "\n",
    "<figure style=\"display:inline-block;font-size:50%;float:right;text-align:center\">\n",
    "<img src=\"https://praneethnamburi.files.wordpress.com/2015/02/02_raster_baselineandstim.png\" width=400 align=right>\n",
    "<figcaption>https://praneethnamburi.wordpress.com/2015/02/05/simulating-neural-spike-trains/</figcaption>\n",
    "</figure>\n"
   ]
  },
  {
   "cell_type": "markdown",
   "metadata": {
    "slideshow": {
     "slide_type": "slide"
    }
   },
   "source": [
    "# Our problem\n",
    "\n",
    "- model responses to known features (like GLM)\n",
    "- infer latent features\n",
    "- do this scalably for large populations of neurons\n",
    "- use (generative) Bayesian models that account for uncertainty"
   ]
  },
  {
   "cell_type": "markdown",
   "metadata": {
    "slideshow": {
     "slide_type": "fragment"
    }
   },
   "source": [
    "# One solution: Sampling\n",
    "\n",
    "- Markov Chain Monte Carlo (MCMC) methods come with guarantees about correctness\n",
    "- lots of packages (Lora.jl, Mamba.jl, Stan.jl)\n",
    "- **But** sampling does not scale well to millions of observations and parameters"
   ]
  },
  {
   "cell_type": "markdown",
   "metadata": {
    "slideshow": {
     "slide_type": "slide"
    }
   },
   "source": [
    "# Another solution: The Max Power Way\n",
    "\n",
    "<img src=\"max_power.jpg\" width=\"600\">"
   ]
  },
  {
   "cell_type": "markdown",
   "metadata": {
    "slideshow": {
     "slide_type": "slide"
    }
   },
   "source": [
    "# Variational Bayesian Inference (VB)\n",
    "\n",
    "Generative model for data: $p(y|\\theta)p(\\theta)$  \n",
    "Actual posterior: $p(\\theta|y) = p(y|\\theta)p(\\theta)/p(y)$  \n",
    "Approximate posterior: $q(\\theta)$  \n",
    "\n",
    "Maximize **E**vidence **L**ower **Bo**und (ELBO) wrt $\\theta$:\n",
    "\n",
    "$$\n",
    "\\mathcal{L} = \\log p(y) \\ge -KL\\left(q \\middle\\| p\\right) = \\mathbb{E}_q[\\log p(y|\\theta)] + \\mathcal{H}[q]\n",
    "$$\n",
    "\n",
    "- $\\mathbb{E}_q[\\log p(y|\\theta)]$ measures goodness of fit (data likely under approximate posterior)\n",
    "- $\\mathcal{H}[q]$ is the entropy (favors less certain models)"
   ]
  },
  {
   "cell_type": "markdown",
   "metadata": {
    "slideshow": {
     "slide_type": "slide"
    }
   },
   "source": [
    "# Why VB?\n",
    "\n",
    "- Scales well\n",
    "- Can use well-studied optimization techniques\n",
    "\n",
    "# Drawbacks:\n",
    "- !@$*&# hard to code\n",
    "- Can't quickly spec out a model like with Stan or JAGS/BUGS\n",
    "- Traditionally, requires that distributions be conjugate, requires doing lots of algebra"
   ]
  },
  {
   "cell_type": "markdown",
   "metadata": {
    "slideshow": {
     "slide_type": "slide"
    }
   },
   "source": [
    "# But VB is exploding!\n",
    "\n",
    "- stochastic variational inference (SVI): [Hoffman et al.](http://dl.acm.org/citation.cfm?id=2502622)\n",
    "- black box variational inference (BBVI): [Ranganath et al.](http://arxiv.org/abs/1401.0118)\n",
    "- control variates: [Paisley et al.](http://arxiv.org/abs/1206.6430)\n",
    "- local expectation gradients (LEG): [Titsias and L&aacute;zaro-Gredilla](http://papers.nips.cc/paper/5678-local-expectation-gradients-for-black-box-variational-inference)\n",
    "- neural variational inference (NVIL): [Mnih and Gregor](http://arxiv.org/abs/1402.0030)\n",
    "- variational autoencoders [Kingma and Welling](http://arxiv.org/abs/1312.6114), [Rezende et al.](http://arxiv.org/abs/1401.4082) "
   ]
  },
  {
   "cell_type": "markdown",
   "metadata": {
    "slideshow": {
     "slide_type": "slide"
    }
   },
   "source": [
    "# What's out there\n",
    "\n",
    "- research code: individual algorithms, proof of concept \n",
    "- [Stan](http://mc-stan.org/) \n",
    "    - **Pros**: Robust, actively developed, good with stats, accessible from Julia\n",
    "    - **Cons**: variational methods still experimental, C++\n",
    "    "
   ]
  },
  {
   "cell_type": "markdown",
   "metadata": {
    "slideshow": {
     "slide_type": "fragment"
    }
   },
   "source": [
    "- [Edward](https://github.com/blei-lab/edward)\n",
    "    - **Pros**: Python, multiple backends, from Stan and VB core developers\n",
    "    - **Cons**: Python, very new\n"
   ]
  },
  {
   "cell_type": "markdown",
   "metadata": {
    "slideshow": {
     "slide_type": "slide"
    }
   },
   "source": [
    "# What's out there\n",
    "- [Theano](http://deeplearning.net/software/theano/) & [TensorFlow](https://www.tensorflow.org/)\n",
    "    - **Pros**: well-tested, stable, well-engineered backends\n",
    "    - **Cons**: complex, C++, not very stats-aware\n"
   ]
  },
  {
   "cell_type": "markdown",
   "metadata": {
    "slideshow": {
     "slide_type": "slide"
    }
   },
   "source": [
    "# What do we want?\n",
    "- write math, get code &mdash; a domain-specific language (DSL)\n",
    "- easily generalize to different numbers of indices, structures\n",
    "- only weakly opinionated about model structure or inference\n",
    "- model code should be *hackable*\n",
    "    - easy to use prefab pieces\n",
    "    - not hard to write custom VB tricks\n",
    "    - fast prototyping\n",
    "- no (or minimal) algebra\n",
    "- automatic gradients"
   ]
  },
  {
   "cell_type": "markdown",
   "metadata": {
    "collapsed": true,
    "slideshow": {
     "slide_type": "slide"
    }
   },
   "source": [
    "Introducing...\n",
    "![](http://www.joblo.com/newsimages1/vin.diesel_1920x1200_961)\n",
    "## VinDsl.jl: Fast and furious variational inference"
   ]
  },
  {
   "cell_type": "markdown",
   "metadata": {
    "slideshow": {
     "slide_type": "slide"
    }
   },
   "source": [
    "# What's the goal?\n",
    "- quick prototyping\n",
    "- targeted at researchers\n",
    "- \"internal\" DSL\n",
    "- loosely-coupled parts\n",
    "- \"consenting adults\" philosophy"
   ]
  },
  {
   "cell_type": "markdown",
   "metadata": {
    "slideshow": {
     "slide_type": "fragment"
    }
   },
   "source": [
    "# Today: two prototypes\n",
    "- \"Classical\" models (conjugate + some optimization)\n",
    "- ADVI \"Black Box\" models"
   ]
  },
  {
   "cell_type": "markdown",
   "metadata": {
    "slideshow": {
     "slide_type": "slide"
    }
   },
   "source": [
    "# Model 1\n",
    "\n",
    "### Finally, some code!"
   ]
  },
  {
   "cell_type": "code",
   "execution_count": 1,
   "metadata": {
    "collapsed": false,
    "slideshow": {
     "slide_type": "fragment"
    }
   },
   "outputs": [
    {
     "name": "stderr",
     "output_type": "stream",
     "text": [
      "WARNING: Method definition logpdf(Distributions.Gamma, Real) in module Distributions at /Users/jmxp/.julia/v0.4/Distributions/src/univariates.jl:321 overwritten in module VinDsl at /Users/jmxp/.julia/v0.4/VinDsl/src/distributions/expfam.jl:42.\n",
      "WARNING: Method definition logpdf(Distributions.Poisson, Int64) in module Distributions at /Users/jmxp/.julia/v0.4/Distributions/src/univariates.jl:321 overwritten in module VinDsl at /Users/jmxp/.julia/v0.4/VinDsl/src/distributions/expfam.jl:64.\n"
     ]
    }
   ],
   "source": [
    "using Distributions\n",
    "using VinDsl"
   ]
  },
  {
   "cell_type": "markdown",
   "metadata": {
    "slideshow": {
     "slide_type": "slide"
    }
   },
   "source": [
    "# Model structure:\n",
    "### Main idea: Factor graphs\n",
    "- idea from Dahua Lin in [this talk](http://people.csail.mit.edu/dhlin/jubayes/julia_bayes_inference.pdf)\n",
    "<img src=\"http://research.microsoft.com/en-us/um/people/cmbishop/prml/prmlfigs-png/Figure8.51.png\" width=\"200\">\n",
    "- Nodes: arrays of distributions\n",
    "- Factors $\\leftrightarrow$ terms in variational objective\n",
    "    - but not locked in to graphical model structure!"
   ]
  },
  {
   "cell_type": "code",
   "execution_count": 2,
   "metadata": {
    "collapsed": false,
    "slideshow": {
     "slide_type": "slide"
    }
   },
   "outputs": [],
   "source": [
    "dims = (20, 6)\n",
    "\n",
    "μ[j] ~ Normal(zeros(dims[2]), ones(dims[2]))\n",
    "τ[j] ~ Gamma(1.1 * ones(dims[2]), ones(dims[2]))\n",
    "μ0[j] ~ Const(zeros(dims[2]))\n",
    "\n",
    "y[i, j] ~ Const(rand(dims));"
   ]
  },
  {
   "cell_type": "markdown",
   "metadata": {
    "slideshow": {
     "slide_type": "notes"
    }
   },
   "source": [
    "Nodes: under the hood\n",
    "nodes define the q/approximate posterior/recognition model\n",
    "~ defines a node\n",
    "can use any distribution defined in the Distributions package\n",
    "code parses the left and right-hand sides\n",
    "indices on left get tracked and assigned to dimensions of parameter arrays\n",
    "code is rewritten as a call to a node constructor"
   ]
  },
  {
   "cell_type": "code",
   "execution_count": 3,
   "metadata": {
    "collapsed": false,
    "slideshow": {
     "slide_type": "slide"
    }
   },
   "outputs": [],
   "source": [
    "f = @factor LogNormalFactor y μ τ;"
   ]
  },
  {
   "cell_type": "markdown",
   "metadata": {
    "slideshow": {
     "slide_type": "fragment"
    }
   },
   "source": [
    "or..."
   ]
  },
  {
   "cell_type": "code",
   "execution_count": 4,
   "metadata": {
    "collapsed": false,
    "slideshow": {
     "slide_type": "-"
    }
   },
   "outputs": [
    {
     "data": {
      "text/plain": [
       "1-element Array{VinDsl.Factor{N},1}:\n",
       " VinDsl.LogNormalFactor{2}\n",
       "x: VinDsl.ConstantNode{Float64} y[i,j]\n",
       "μ: VinDsl.RandomNode{Normal} μ[j]\n",
       "τ: VinDsl.RandomNode{Gamma} τ[j]\n"
      ]
     },
     "execution_count": 4,
     "metadata": {},
     "output_type": "execute_result"
    }
   ],
   "source": [
    "@pmodel begin\n",
    "    y ~ Normal(μ, τ)\n",
    "end"
   ]
  },
  {
   "cell_type": "markdown",
   "metadata": {
    "slideshow": {
     "slide_type": "slide"
    }
   },
   "source": [
    "New factor types can be defined with yet another macro:"
   ]
  },
  {
   "cell_type": "raw",
   "metadata": {
    "collapsed": true
   },
   "source": [
    "@deffactor LogNormalFactor [x, μ, τ] begin\n",
    "    -(1/2) * ((E(τ) * ( V(x) + V(μ) + (E(x) - E(μ))^2 ) + log(2π) + Elog(τ)))\n",
    "end\n",
    "\n",
    "@deffactor LogGammaFactor [x, α, β] begin\n",
    "    (E(α) - 1) * Elog(x) - E(β) * E(x) + E(α) * E(β) - Eloggamma(α)\n",
    "end"
   ]
  },
  {
   "cell_type": "markdown",
   "metadata": {
    "slideshow": {
     "slide_type": "slide"
    }
   },
   "source": [
    "- Uses a \"mini-language\" with `E(x)` $\\equiv \\mathbb{E}[X]$, `V(x)` $\\equiv \\textrm{cov}[X]$, etc.  \n",
    "- Again, no need to track indices\n",
    "    - multivariate distributions (Dirichlet, MvNormal) are automatically multivariate in these expressions\n",
    "- `VinDsl` generates a `value(f)` function that handles indices appropriately and sums over the dimensions of the array"
   ]
  },
  {
   "cell_type": "markdown",
   "metadata": {
    "slideshow": {
     "slide_type": "slide"
    }
   },
   "source": [
    "# Models are just factor graphs\n",
    "Let's do a simple conjugate model:  \n",
    "p-model:\n",
    "$$\n",
    "\\begin{align}\n",
    "\\mu_j &\\sim \\mathcal{N}(0, 1) \\\\\n",
    "\\tau_j &\\sim \\mathrm{Gamma}(1.1, 1) \\\\\n",
    "y_{ij} &\\sim \\mathcal{N}(\\mu_j, \\tau_j)\n",
    "\\end{align}\n",
    "$$\n",
    "\n",
    "q-model:\n",
    "$$\n",
    "\\begin{align}\n",
    "\\mu &\\sim \\mathcal{N}(m, t) \\\\\n",
    "\\tau &\\sim \\mathrm{Gamma}(\\alpha, \\beta) \\\\\n",
    "\\end{align}\n",
    "$$"
   ]
  },
  {
   "cell_type": "code",
   "execution_count": 5,
   "metadata": {
    "collapsed": true,
    "slideshow": {
     "slide_type": "slide"
    }
   },
   "outputs": [],
   "source": [
    "dims = (20, 6)\n",
    "\n",
    "# note: it won't matter how we initialize here\n",
    "μ[j] ~ Normal(zeros(dims[2]), ones(dims[2]))\n",
    "τ[j] ~ Gamma(1.1 * ones(dims[2]), ones(dims[2]))\n",
    "μ0[j] ~ Const(zeros(dims[2]))\n",
    "τ0[j] ~ Const(2 * ones(dims[2]))\n",
    "a0[j] ~ Const(1.1 * ones(dims[2]))\n",
    "b0[j] ~ Const(ones(dims[2]))\n",
    "\n",
    "y[i, j] ~ Const(rand(dims))\n",
    "\n",
    "@pmodel begin\n",
    "    y ~ Normal(μ, τ)\n",
    "    μ ~ Normal(μ0, τ0)\n",
    "    τ ~ Gamma(a0, b0)\n",
    "end\n",
    "\n",
    "m = VBModel([μ, τ, μ0, τ0, a0, b0, y], pmodel_factors);"
   ]
  },
  {
   "cell_type": "markdown",
   "metadata": {
    "collapsed": true,
    "slideshow": {
     "slide_type": "slide"
    }
   },
   "source": [
    "# What's going on here?"
   ]
  },
  {
   "cell_type": "code",
   "execution_count": 6,
   "metadata": {
    "collapsed": false
   },
   "outputs": [
    {
     "data": {
      "text/plain": [
       "Dict{VinDsl.Node,Symbol} with 7 entries:\n",
       "  VinDsl.RandomNode{Gamma… => :conjugate\n",
       "  VinDsl.ConstantNode{Flo… => :constant\n",
       "  VinDsl.ConstantNode{Flo… => :constant\n",
       "  VinDsl.ConstantNode{Flo… => :constant\n",
       "  VinDsl.ConstantNode{Flo… => :constant\n",
       "  VinDsl.RandomNode{Norma… => :conjugate\n",
       "  VinDsl.ConstantNode{Flo… => :constant"
      ]
     },
     "execution_count": 6,
     "metadata": {},
     "output_type": "execute_result"
    }
   ],
   "source": [
    "m.update_strategy"
   ]
  },
  {
   "cell_type": "code",
   "execution_count": 7,
   "metadata": {
    "collapsed": false
   },
   "outputs": [],
   "source": [
    "update!(m)"
   ]
  },
  {
   "cell_type": "markdown",
   "metadata": {
    "slideshow": {
     "slide_type": "slide"
    }
   },
   "source": [
    "# Conjugacy\n",
    "- right now `VinDsl` goes out of its way to handle conjugacy between nodes\n",
    "- conjugate relationships not automatically detected, but easy to define\n",
    "- `@defnaturals` returns expected sufficient statistics from a factor for a given target distribution"
   ]
  },
  {
   "cell_type": "raw",
   "metadata": {
    "collapsed": true
   },
   "source": [
    "@defnaturals LogNormalFactor μ Normal begin\n",
    "    Ex, Eτ = E(x), E(τ)\n",
    "    (Ex * Eτ, -Eτ/2)\n",
    "end"
   ]
  },
  {
   "cell_type": "markdown",
   "metadata": {
    "slideshow": {
     "slide_type": "slide"
    }
   },
   "source": [
    "# Index Bookkeeping\n",
    "- nodes have associated indices\n",
    "- factors know which indices go with which nodes, which indices to sum over\n",
    "    - inner indices belong to, e.g., elements of a multivariate normal (should not be separated)\n",
    "    - outer indices correspond to replicates of \"atomic\" variables  "
   ]
  },
  {
   "cell_type": "markdown",
   "metadata": {
    "slideshow": {
     "slide_type": "slide"
    }
   },
   "source": [
    "So this is easy: `i` is inner:"
   ]
  },
  {
   "cell_type": "code",
   "execution_count": 8,
   "metadata": {
    "collapsed": false
   },
   "outputs": [],
   "source": [
    "d = 5\n",
    "μ[i] ~ MvNormalCanon(zeros(d), diagm(ones(d)))\n",
    "Λ[i, i] ~ Wishart(float(d), diagm(ones(d)));"
   ]
  },
  {
   "cell_type": "markdown",
   "metadata": {
    "slideshow": {
     "slide_type": "slide"
    }
   },
   "source": [
    "But here, `i` is inner for $\\mu$ but not for $\\tau$. In any factor combining these two, $\\tau$ will be treated like a vector because it matches an inner index for some node:"
   ]
  },
  {
   "cell_type": "code",
   "execution_count": 9,
   "metadata": {
    "collapsed": true
   },
   "outputs": [],
   "source": [
    "μ[i] ~ MvNormalCanon(zeros(d), diagm(ones(d)))\n",
    "τ[i] ~ Gamma(1.1 * ones(d), ones(d));"
   ]
  },
  {
   "cell_type": "markdown",
   "metadata": {
    "slideshow": {
     "slide_type": "slide"
    }
   },
   "source": [
    "# Model 2: ADVI\n",
    "[(Automatic Differentiation Variational Inference)](http://arxiv.org/abs/1603.00788)"
   ]
  },
  {
   "cell_type": "markdown",
   "metadata": {
    "collapsed": true,
    "slideshow": {
     "slide_type": "slide"
    }
   },
   "source": [
    "# Two major ideas\n",
    "1. We just need to define an ELBO (or *approxmate* an ELBO)\n",
    "1. Any unimodal distribution is *approximately* a normal with constrained support"
   ]
  },
  {
   "cell_type": "markdown",
   "metadata": {
    "slideshow": {
     "slide_type": "fragment"
    }
   },
   "source": [
    "# Implementation\n",
    "- Approximate ELBO by sampling from normal, transforming to constrained variables\n",
    "- Let automatic differentiation handle the gradient calculation\n",
    "- Do gradient ascent"
   ]
  },
  {
   "cell_type": "markdown",
   "metadata": {
    "slideshow": {
     "slide_type": "slide"
    }
   },
   "source": [
    "# Hey, we have autodiff!\n",
    "![http://www.juliadiff.org/](juliadiff.png)"
   ]
  },
  {
   "cell_type": "markdown",
   "metadata": {
    "slideshow": {
     "slide_type": "slide"
    }
   },
   "source": [
    "# But there's always a problem:\n",
    "- ForwardDiff defines `Dual <: Real`\n",
    "- But Distributions.jl doesn't allow, e.g., `Dual` $\\mu$ and $\\sigma$ for `Normal`\n",
    "- Then a lot of work..."
   ]
  },
  {
   "cell_type": "markdown",
   "metadata": {
    "slideshow": {
     "slide_type": "slide"
    }
   },
   "source": [
    "# Today:\n",
    "- Some distributions allow arbitrary parameter types:\n",
    "    - using PDMats:\n",
    "        - MvNormal, MvNormalCanon, GenericMvTDist\n",
    "        - Wishart, InverseWishart\n",
    "    - other:\n",
    "        - Dirichlet, Normal, NormalCanon, Gamma, InverseGamma, Poisson\n",
    "- for examples see [here](https://github.com/jmxpearson/distribution_diff_tests)"
   ]
  },
  {
   "cell_type": "markdown",
   "metadata": {
    "slideshow": {
     "slide_type": "slide"
    }
   },
   "source": [
    "# This month:\n",
    "- ~40 more distributions &mdash; almost all univariates\n",
    "- PR in progress from @Halmoni100 in my lab\n",
    "- some special functions in StatsFuns and Base still assume Float64"
   ]
  },
  {
   "cell_type": "markdown",
   "metadata": {
    "slideshow": {
     "slide_type": "slide"
    }
   },
   "source": [
    "# Defining a simple model\n",
    "$$\\begin{align}\n",
    "\\sigma_\\eta &\\sim \\mathrm{Gamma}(a_\\eta, b_\\eta) \\\\\n",
    "a_u &\\sim \\mathcal{N}(\\mu_a, \\sigma_a) \\\\\n",
    "\\eta_{tu} &\\sim \\mathcal{N}(a_u, \\sigma_\\eta) \\\\\n",
    "N_{tu} &\\sim \\mathrm{Poisson}(e^{\\eta_{tu}}) \\\\\n",
    "\\end{align}$$"
   ]
  },
  {
   "cell_type": "code",
   "execution_count": 10,
   "metadata": {
    "collapsed": false,
    "slideshow": {
     "slide_type": "slide"
    }
   },
   "outputs": [
    {
     "data": {
      "text/plain": [
       "ELBO (generic function with 1 method)"
      ]
     },
     "execution_count": 10,
     "metadata": {},
     "output_type": "execute_result"
    }
   ],
   "source": [
    "@ELBO begin\n",
    "    @advi_declarations begin\n",
    "        a::Real()[U]\n",
    "        σ::Positive()\n",
    "        η::Real()[T, U]    \n",
    "    end\n",
    "    \n",
    "    @advi_model begin\n",
    "        for u in 1:U\n",
    "            a[u] ~ Normal(log(15.), 0.1)\n",
    "        end\n",
    "        \n",
    "        σ ~ Gamma(1, 1)\n",
    "\n",
    "        for t in 1:T\n",
    "            for u in 1:U\n",
    "                η[t, u] ~ Normal(a[u], σ)\n",
    "                spikes[t, u] ~ Poisson(exp(η[t, u]))\n",
    "            end\n",
    "        end\n",
    "    end\n",
    "end"
   ]
  },
  {
   "cell_type": "code",
   "execution_count": 11,
   "metadata": {
    "collapsed": false,
    "slideshow": {
     "slide_type": "skip"
    }
   },
   "outputs": [
    {
     "name": "stderr",
     "output_type": "stream",
     "text": [
      "/Users/jmxp/anaconda/lib/python2.7/site-packages/matplotlib/font_manager.py:273: UserWarning: Matplotlib is building the font cache using fc-list. This may take a moment.\n",
      "  warnings.warn('Matplotlib is building the font cache using fc-list. This may take a moment.')\n"
     ]
    }
   ],
   "source": [
    "using PyPlot\n",
    "T = 100  # number of time steps\n",
    "U = 10  # units\n",
    "\n",
    "baseline = 10.\n",
    "baseline_sd = 0.10\n",
    "log_bl = log(baseline)\n",
    "unit_bl = log_bl + baseline_sd * randn(U);\n",
    "\n",
    "fr_log = unit_bl' .+ zeros(T, U)  # firing rate\n",
    "\n",
    "σ_η = 0.05\n",
    "\n",
    "eta = fr_log + σ_η * randn(T, U)\n",
    "fr = exp(eta);\n",
    "\n",
    "spikes = Array{Int}(size(fr)...)\n",
    "for i in eachindex(fr)\n",
    "    spikes[i] = rand(Poisson(fr[i]))\n",
    "end"
   ]
  },
  {
   "cell_type": "markdown",
   "metadata": {
    "slideshow": {
     "slide_type": "slide"
    }
   },
   "source": [
    "Add some data..."
   ]
  },
  {
   "cell_type": "code",
   "execution_count": 12,
   "metadata": {
    "collapsed": false
   },
   "outputs": [
    {
     "data": {
      "image/png": "[encoded data removed]",
      "text/plain": [
       "PyPlot.Figure(PyObject <matplotlib.figure.Figure object at 0x3277d8850>)"
      ]
     },
     "metadata": {},
     "output_type": "display_data"
    }
   ],
   "source": [
    "matshow(spikes', aspect=\"auto\", cmap=\"gray\");"
   ]
  },
  {
   "cell_type": "markdown",
   "metadata": {
    "slideshow": {
     "slide_type": "slide"
    }
   },
   "source": [
    "Number of parameters\n",
    "- $a$: 2$U$\n",
    "- $\\sigma$: 2\n",
    "- $\\eta$: 2$TU$"
   ]
  },
  {
   "cell_type": "code",
   "execution_count": 13,
   "metadata": {
    "collapsed": false
   },
   "outputs": [
    {
     "data": {
      "text/plain": [
       "-21631.47778954906"
      ]
     },
     "execution_count": 13,
     "metadata": {},
     "output_type": "execute_result"
    }
   ],
   "source": [
    "npars = U * VinDsl.num_pars_advi(RReal()) + VinDsl.num_pars_advi(RPositive()) +\n",
    "T * U * VinDsl.num_pars_advi(RReal())\n",
    "xx = 0.1 * randn(npars)\n",
    "ELBO(xx)"
   ]
  },
  {
   "cell_type": "code",
   "execution_count": 14,
   "metadata": {
    "collapsed": false,
    "slideshow": {
     "slide_type": "slide"
    }
   },
   "outputs": [
    {
     "name": "stdout",
     "output_type": "stream",
     "text": [
      "  1.562912 seconds (8.04 M allocations: 679.587 MB, 6.21% gc time)\n"
     ]
    },
    {
     "data": {
      "text/plain": [
       "2022-element Array{Float64,1}:\n",
       "    96.2983 \n",
       "    38.2569 \n",
       "  2615.62   \n",
       " -7682.52   \n",
       "  -417.951  \n",
       "  -374.225  \n",
       "  -142.068  \n",
       "   -58.1995 \n",
       "   942.229  \n",
       "  -725.058  \n",
       "   273.02   \n",
       "   -36.452  \n",
       "   356.29   \n",
       "     ⋮      \n",
       "    17.0867 \n",
       "   -16.259  \n",
       "    20.1646 \n",
       "    -3.70256\n",
       "     4.73903\n",
       "     3.36335\n",
       "     5.88467\n",
       "     7.44689\n",
       "    13.5717 \n",
       "    -6.19642\n",
       "     8.93425\n",
       "   -12.4798 "
      ]
     },
     "execution_count": 14,
     "metadata": {},
     "output_type": "execute_result"
    }
   ],
   "source": [
    "∇L = (storage, x) -> ForwardDiff.gradient!(storage, ELBO, x)\n",
    "stor = similar(xx)\n",
    "∇L(stor, xx)\n",
    "@time ∇L(stor, xx)"
   ]
  },
  {
   "cell_type": "code",
   "execution_count": 15,
   "metadata": {
    "collapsed": false,
    "slideshow": {
     "slide_type": "slide"
    }
   },
   "outputs": [],
   "source": [
    "yy = copy(xx)\n",
    "gg = similar(yy)\n",
    "avg_sq_grad = similar(gg)\n",
    "firstpass = true\n",
    "elbo = Float64[];"
   ]
  },
  {
   "cell_type": "code",
   "execution_count": 16,
   "metadata": {
    "collapsed": false,
    "slideshow": {
     "slide_type": "-"
    }
   },
   "outputs": [
    {
     "data": {
      "text/plain": [
       "\"Iteration 1 -21901.643192506774\""
      ]
     },
     "metadata": {},
     "output_type": "display_data"
    },
    {
     "data": {
      "text/plain": [
       "\"Iteration 2 -21784.408566088663\""
      ]
     },
     "metadata": {},
     "output_type": "display_data"
    },
    {
     "data": {
      "text/plain": [
       "\"Iteration 3 -22761.50851929847\""
      ]
     },
     "metadata": {},
     "output_type": "display_data"
    },
    {
     "data": {
      "text/plain": [
       "\"Iteration 4 -20361.289769864685\""
      ]
     },
     "metadata": {},
     "output_type": "display_data"
    },
    {
     "data": {
      "text/plain": [
       "\"Iteration 5 -21527.27940310702\""
      ]
     },
     "metadata": {},
     "output_type": "display_data"
    },
    {
     "data": {
      "text/plain": [
       "\"Iteration 6 -17984.190834400826\""
      ]
     },
     "metadata": {},
     "output_type": "display_data"
    },
    {
     "data": {
      "text/plain": [
       "\"Iteration 7 -17219.647018742507\""
      ]
     },
     "metadata": {},
     "output_type": "display_data"
    },
    {
     "data": {
      "text/plain": [
       "\"Iteration 8 -20096.171998652517\""
      ]
     },
     "metadata": {},
     "output_type": "display_data"
    },
    {
     "data": {
      "text/plain": [
       "\"Iteration 9 -15719.133230555724\""
      ]
     },
     "metadata": {},
     "output_type": "display_data"
    },
    {
     "data": {
      "text/plain": [
       "\"Iteration 10 -14807.092746386164\""
      ]
     },
     "metadata": {},
     "output_type": "display_data"
    },
    {
     "data": {
      "text/plain": [
       "\"Iteration 11 -14563.375832332598\""
      ]
     },
     "metadata": {},
     "output_type": "display_data"
    },
    {
     "data": {
      "text/plain": [
       "\"Iteration 12 -14043.741827632271\""
      ]
     },
     "metadata": {},
     "output_type": "display_data"
    },
    {
     "data": {
      "text/plain": [
       "\"Iteration 13 -13715.407754031177\""
      ]
     },
     "metadata": {},
     "output_type": "display_data"
    },
    {
     "data": {
      "text/plain": [
       "\"Iteration 14 -12958.378054523191\""
      ]
     },
     "metadata": {},
     "output_type": "display_data"
    },
    {
     "data": {
      "text/plain": [
       "\"Iteration 15 -11893.664828330544\""
      ]
     },
     "metadata": {},
     "output_type": "display_data"
    },
    {
     "data": {
      "text/plain": [
       "\"Iteration 16 -11416.167999849515\""
      ]
     },
     "metadata": {},
     "output_type": "display_data"
    },
    {
     "data": {
      "text/plain": [
       "\"Iteration 17 -10754.339545075985\""
      ]
     },
     "metadata": {},
     "output_type": "display_data"
    },
    {
     "data": {
      "text/plain": [
       "\"Iteration 18 -10049.352149340006\""
      ]
     },
     "metadata": {},
     "output_type": "display_data"
    },
    {
     "data": {
      "text/plain": [
       "\"Iteration 19 -9402.409352119079\""
      ]
     },
     "metadata": {},
     "output_type": "display_data"
    },
    {
     "data": {
      "text/plain": [
       "\"Iteration 20 -9658.607301884787\""
      ]
     },
     "metadata": {},
     "output_type": "display_data"
    },
    {
     "data": {
      "text/plain": [
       "\"Iteration 21 -8327.828020622168\""
      ]
     },
     "metadata": {},
     "output_type": "display_data"
    },
    {
     "data": {
      "text/plain": [
       "\"Iteration 22 -8908.349523085642\""
      ]
     },
     "metadata": {},
     "output_type": "display_data"
    },
    {
     "data": {
      "text/plain": [
       "\"Iteration 23 -7730.0682606714045\""
      ]
     },
     "metadata": {},
     "output_type": "display_data"
    },
    {
     "data": {
      "text/plain": [
       "\"Iteration 24 -6830.5324054293405\""
      ]
     },
     "metadata": {},
     "output_type": "display_data"
    },
    {
     "data": {
      "text/plain": [
       "\"Iteration 25 -7717.520227847391\""
      ]
     },
     "metadata": {},
     "output_type": "display_data"
    },
    {
     "data": {
      "text/plain": [
       "\"Iteration 26 -6949.580812127499\""
      ]
     },
     "metadata": {},
     "output_type": "display_data"
    },
    {
     "data": {
      "text/plain": [
       "\"Iteration 27 -6652.553936474353\""
      ]
     },
     "metadata": {},
     "output_type": "display_data"
    },
    {
     "data": {
      "text/plain": [
       "\"Iteration 28 -5976.654400816284\""
      ]
     },
     "metadata": {},
     "output_type": "display_data"
    },
    {
     "data": {
      "text/plain": [
       "\"Iteration 29 -6357.3658596257765\""
      ]
     },
     "metadata": {},
     "output_type": "display_data"
    },
    {
     "data": {
      "text/plain": [
       "\"Iteration 30 -5812.548575407791\""
      ]
     },
     "metadata": {},
     "output_type": "display_data"
    },
    {
     "data": {
      "text/plain": [
       "\"Iteration 31 -5490.162040191422\""
      ]
     },
     "metadata": {},
     "output_type": "display_data"
    },
    {
     "data": {
      "text/plain": [
       "\"Iteration 32 -5059.303556650625\""
      ]
     },
     "metadata": {},
     "output_type": "display_data"
    },
    {
     "data": {
      "text/plain": [
       "\"Iteration 33 -4781.426677334765\""
      ]
     },
     "metadata": {},
     "output_type": "display_data"
    },
    {
     "data": {
      "text/plain": [
       "\"Iteration 34 -4551.261856632452\""
      ]
     },
     "metadata": {},
     "output_type": "display_data"
    },
    {
     "data": {
      "text/plain": [
       "\"Iteration 35 -4308.270095528986\""
      ]
     },
     "metadata": {},
     "output_type": "display_data"
    },
    {
     "data": {
      "text/plain": [
       "\"Iteration 36 -4292.079328215761\""
      ]
     },
     "metadata": {},
     "output_type": "display_data"
    },
    {
     "data": {
      "text/plain": [
       "\"Iteration 37 -3994.083445482836\""
      ]
     },
     "metadata": {},
     "output_type": "display_data"
    },
    {
     "data": {
      "text/plain": [
       "\"Iteration 38 -4023.492487795364\""
      ]
     },
     "metadata": {},
     "output_type": "display_data"
    },
    {
     "data": {
      "text/plain": [
       "\"Iteration 39 -3941.4627487592675\""
      ]
     },
     "metadata": {},
     "output_type": "display_data"
    },
    {
     "data": {
      "text/plain": [
       "\"Iteration 40 -3773.625767885166\""
      ]
     },
     "metadata": {},
     "output_type": "display_data"
    },
    {
     "data": {
      "text/plain": [
       "\"Iteration 41 -3554.285420824762\""
      ]
     },
     "metadata": {},
     "output_type": "display_data"
    },
    {
     "data": {
      "text/plain": [
       "\"Iteration 42 -3471.2177896320422\""
      ]
     },
     "metadata": {},
     "output_type": "display_data"
    },
    {
     "data": {
      "text/plain": [
       "\"Iteration 43 -3606.801729149118\""
      ]
     },
     "metadata": {},
     "output_type": "display_data"
    },
    {
     "data": {
      "text/plain": [
       "\"Iteration 44 -3458.755837296366\""
      ]
     },
     "metadata": {},
     "output_type": "display_data"
    },
    {
     "data": {
      "text/plain": [
       "\"Iteration 45 -3312.558257314446\""
      ]
     },
     "metadata": {},
     "output_type": "display_data"
    },
    {
     "data": {
      "text/plain": [
       "\"Iteration 46 -3422.1017210636055\""
      ]
     },
     "metadata": {},
     "output_type": "display_data"
    },
    {
     "data": {
      "text/plain": [
       "\"Iteration 47 -3486.693965133956\""
      ]
     },
     "metadata": {},
     "output_type": "display_data"
    },
    {
     "data": {
      "text/plain": [
       "\"Iteration 48 -3212.4499594516324\""
      ]
     },
     "metadata": {},
     "output_type": "display_data"
    },
    {
     "data": {
      "text/plain": [
       "\"Iteration 49 -3295.4129262072634\""
      ]
     },
     "metadata": {},
     "output_type": "display_data"
    },
    {
     "data": {
      "text/plain": [
       "\"Iteration 50 -2894.734068845817\""
      ]
     },
     "metadata": {},
     "output_type": "display_data"
    },
    {
     "data": {
      "text/plain": [
       "\"Iteration 51 -3044.5778606475983\""
      ]
     },
     "metadata": {},
     "output_type": "display_data"
    },
    {
     "data": {
      "text/plain": [
       "\"Iteration 52 -3043.3890236880393\""
      ]
     },
     "metadata": {},
     "output_type": "display_data"
    },
    {
     "data": {
      "text/plain": [
       "\"Iteration 53 -3096.705300079607\""
      ]
     },
     "metadata": {},
     "output_type": "display_data"
    },
    {
     "data": {
      "text/plain": [
       "\"Iteration 54 -2800.2168429386597\""
      ]
     },
     "metadata": {},
     "output_type": "display_data"
    },
    {
     "data": {
      "text/plain": [
       "\"Iteration 55 -2823.6872893306668\""
      ]
     },
     "metadata": {},
     "output_type": "display_data"
    },
    {
     "data": {
      "text/plain": [
       "\"Iteration 56 -2724.815827991035\""
      ]
     },
     "metadata": {},
     "output_type": "display_data"
    },
    {
     "data": {
      "text/plain": [
       "\"Iteration 57 -2536.2819942592146\""
      ]
     },
     "metadata": {},
     "output_type": "display_data"
    },
    {
     "data": {
      "text/plain": [
       "\"Iteration 58 -2813.8252996675283\""
      ]
     },
     "metadata": {},
     "output_type": "display_data"
    },
    {
     "data": {
      "text/plain": [
       "\"Iteration 59 -2622.910766909394\""
      ]
     },
     "metadata": {},
     "output_type": "display_data"
    },
    {
     "data": {
      "text/plain": [
       "\"Iteration 60 -2545.5242115244478\""
      ]
     },
     "metadata": {},
     "output_type": "display_data"
    },
    {
     "data": {
      "text/plain": [
       "\"Iteration 61 -2716.8188182666395\""
      ]
     },
     "metadata": {},
     "output_type": "display_data"
    },
    {
     "data": {
      "text/plain": [
       "\"Iteration 62 -2547.8211304211463\""
      ]
     },
     "metadata": {},
     "output_type": "display_data"
    },
    {
     "data": {
      "text/plain": [
       "\"Iteration 63 -2487.1965455038285\""
      ]
     },
     "metadata": {},
     "output_type": "display_data"
    },
    {
     "data": {
      "text/plain": [
       "\"Iteration 64 -2595.838009852493\""
      ]
     },
     "metadata": {},
     "output_type": "display_data"
    },
    {
     "data": {
      "text/plain": [
       "\"Iteration 65 -2555.6287417482945\""
      ]
     },
     "metadata": {},
     "output_type": "display_data"
    },
    {
     "data": {
      "text/plain": [
       "\"Iteration 66 -2496.6940447238594\""
      ]
     },
     "metadata": {},
     "output_type": "display_data"
    },
    {
     "data": {
      "text/plain": [
       "\"Iteration 67 -2440.753239815258\""
      ]
     },
     "metadata": {},
     "output_type": "display_data"
    },
    {
     "data": {
      "text/plain": [
       "\"Iteration 68 -2529.6677493249813\""
      ]
     },
     "metadata": {},
     "output_type": "display_data"
    },
    {
     "data": {
      "text/plain": [
       "\"Iteration 69 -2342.0300345334454\""
      ]
     },
     "metadata": {},
     "output_type": "display_data"
    },
    {
     "data": {
      "text/plain": [
       "\"Iteration 70 -2422.372643545843\""
      ]
     },
     "metadata": {},
     "output_type": "display_data"
    },
    {
     "data": {
      "text/plain": [
       "\"Iteration 71 -2468.877089588612\""
      ]
     },
     "metadata": {},
     "output_type": "display_data"
    },
    {
     "data": {
      "text/plain": [
       "\"Iteration 72 -2275.624680316577\""
      ]
     },
     "metadata": {},
     "output_type": "display_data"
    },
    {
     "data": {
      "text/plain": [
       "\"Iteration 73 -2340.410675965846\""
      ]
     },
     "metadata": {},
     "output_type": "display_data"
    },
    {
     "data": {
      "text/plain": [
       "\"Iteration 74 -2363.202887175471\""
      ]
     },
     "metadata": {},
     "output_type": "display_data"
    },
    {
     "data": {
      "text/plain": [
       "\"Iteration 75 -2298.6586223903637\""
      ]
     },
     "metadata": {},
     "output_type": "display_data"
    },
    {
     "data": {
      "text/plain": [
       "\"Iteration 76 -2424.8088286744824\""
      ]
     },
     "metadata": {},
     "output_type": "display_data"
    },
    {
     "data": {
      "text/plain": [
       "\"Iteration 77 -2254.9648424563484\""
      ]
     },
     "metadata": {},
     "output_type": "display_data"
    },
    {
     "data": {
      "text/plain": [
       "\"Iteration 78 -2256.767659962991\""
      ]
     },
     "metadata": {},
     "output_type": "display_data"
    },
    {
     "data": {
      "text/plain": [
       "\"Iteration 79 -2268.489729925305\""
      ]
     },
     "metadata": {},
     "output_type": "display_data"
    },
    {
     "data": {
      "text/plain": [
       "\"Iteration 80 -2321.730033369412\""
      ]
     },
     "metadata": {},
     "output_type": "display_data"
    },
    {
     "data": {
      "text/plain": [
       "\"Iteration 81 -2263.3048735619204\""
      ]
     },
     "metadata": {},
     "output_type": "display_data"
    },
    {
     "data": {
      "text/plain": [
       "\"Iteration 82 -2247.089332315065\""
      ]
     },
     "metadata": {},
     "output_type": "display_data"
    },
    {
     "data": {
      "text/plain": [
       "\"Iteration 83 -2239.594407428411\""
      ]
     },
     "metadata": {},
     "output_type": "display_data"
    },
    {
     "data": {
      "text/plain": [
       "\"Iteration 84 -2157.729730733962\""
      ]
     },
     "metadata": {},
     "output_type": "display_data"
    },
    {
     "data": {
      "text/plain": [
       "\"Iteration 85 -2320.5130380270866\""
      ]
     },
     "metadata": {},
     "output_type": "display_data"
    },
    {
     "data": {
      "text/plain": [
       "\"Iteration 86 -2181.973441053312\""
      ]
     },
     "metadata": {},
     "output_type": "display_data"
    },
    {
     "data": {
      "text/plain": [
       "\"Iteration 87 -2151.7475185448898\""
      ]
     },
     "metadata": {},
     "output_type": "display_data"
    },
    {
     "data": {
      "text/plain": [
       "\"Iteration 88 -2136.0583167507343\""
      ]
     },
     "metadata": {},
     "output_type": "display_data"
    },
    {
     "data": {
      "text/plain": [
       "\"Iteration 89 -2207.967863877849\""
      ]
     },
     "metadata": {},
     "output_type": "display_data"
    },
    {
     "data": {
      "text/plain": [
       "\"Iteration 90 -2213.9749887090247\""
      ]
     },
     "metadata": {},
     "output_type": "display_data"
    },
    {
     "data": {
      "text/plain": [
       "\"Iteration 91 -2239.828309206509\""
      ]
     },
     "metadata": {},
     "output_type": "display_data"
    },
    {
     "data": {
      "text/plain": [
       "\"Iteration 92 -2176.8503933645948\""
      ]
     },
     "metadata": {},
     "output_type": "display_data"
    },
    {
     "data": {
      "text/plain": [
       "\"Iteration 93 -2127.587617212332\""
      ]
     },
     "metadata": {},
     "output_type": "display_data"
    },
    {
     "data": {
      "text/plain": [
       "\"Iteration 94 -2206.123110053107\""
      ]
     },
     "metadata": {},
     "output_type": "display_data"
    },
    {
     "data": {
      "text/plain": [
       "\"Iteration 95 -2096.1898543678385\""
      ]
     },
     "metadata": {},
     "output_type": "display_data"
    },
    {
     "data": {
      "text/plain": [
       "\"Iteration 96 -2110.604683041632\""
      ]
     },
     "metadata": {},
     "output_type": "display_data"
    },
    {
     "data": {
      "text/plain": [
       "\"Iteration 97 -2142.6319010119396\""
      ]
     },
     "metadata": {},
     "output_type": "display_data"
    },
    {
     "data": {
      "text/plain": [
       "\"Iteration 98 -2072.0808398411173\""
      ]
     },
     "metadata": {},
     "output_type": "display_data"
    },
    {
     "data": {
      "text/plain": [
       "\"Iteration 99 -2082.9017019162893\""
      ]
     },
     "metadata": {},
     "output_type": "display_data"
    },
    {
     "data": {
      "text/plain": [
       "\"Iteration 100 -2067.3815735554995\""
      ]
     },
     "metadata": {},
     "output_type": "display_data"
    },
    {
     "data": {
      "text/plain": [
       "\"Iteration 101 -2038.6749828045126\""
      ]
     },
     "metadata": {},
     "output_type": "display_data"
    },
    {
     "data": {
      "text/plain": [
       "\"Iteration 102 -2008.7349778361252\""
      ]
     },
     "metadata": {},
     "output_type": "display_data"
    },
    {
     "data": {
      "text/plain": [
       "\"Iteration 103 -2175.2734896075244\""
      ]
     },
     "metadata": {},
     "output_type": "display_data"
    },
    {
     "data": {
      "text/plain": [
       "\"Iteration 104 -2163.3208904355224\""
      ]
     },
     "metadata": {},
     "output_type": "display_data"
    },
    {
     "data": {
      "text/plain": [
       "\"Iteration 105 -2062.4252397849423\""
      ]
     },
     "metadata": {},
     "output_type": "display_data"
    },
    {
     "data": {
      "text/plain": [
       "\"Iteration 106 -2027.6384133912975\""
      ]
     },
     "metadata": {},
     "output_type": "display_data"
    },
    {
     "data": {
      "text/plain": [
       "\"Iteration 107 -2028.4687089222305\""
      ]
     },
     "metadata": {},
     "output_type": "display_data"
    },
    {
     "data": {
      "text/plain": [
       "\"Iteration 108 -2092.8963261403974\""
      ]
     },
     "metadata": {},
     "output_type": "display_data"
    },
    {
     "data": {
      "text/plain": [
       "\"Iteration 109 -2044.4750625303006\""
      ]
     },
     "metadata": {},
     "output_type": "display_data"
    },
    {
     "data": {
      "text/plain": [
       "\"Iteration 110 -1980.050522057777\""
      ]
     },
     "metadata": {},
     "output_type": "display_data"
    },
    {
     "data": {
      "text/plain": [
       "\"Iteration 111 -2059.126407304515\""
      ]
     },
     "metadata": {},
     "output_type": "display_data"
    },
    {
     "data": {
      "text/plain": [
       "\"Iteration 112 -2016.3900277082657\""
      ]
     },
     "metadata": {},
     "output_type": "display_data"
    },
    {
     "data": {
      "text/plain": [
       "\"Iteration 113 -1961.0534237732666\""
      ]
     },
     "metadata": {},
     "output_type": "display_data"
    },
    {
     "data": {
      "text/plain": [
       "\"Iteration 114 -2076.216579276364\""
      ]
     },
     "metadata": {},
     "output_type": "display_data"
    },
    {
     "data": {
      "text/plain": [
       "\"Iteration 115 -1965.2993420464118\""
      ]
     },
     "metadata": {},
     "output_type": "display_data"
    },
    {
     "data": {
      "text/plain": [
       "\"Iteration 116 -2048.9245640823733\""
      ]
     },
     "metadata": {},
     "output_type": "display_data"
    },
    {
     "data": {
      "text/plain": [
       "\"Iteration 117 -2052.929140493427\""
      ]
     },
     "metadata": {},
     "output_type": "display_data"
    },
    {
     "data": {
      "text/plain": [
       "\"Iteration 118 -2007.0027668345772\""
      ]
     },
     "metadata": {},
     "output_type": "display_data"
    },
    {
     "data": {
      "text/plain": [
       "\"Iteration 119 -1930.4442542333984\""
      ]
     },
     "metadata": {},
     "output_type": "display_data"
    },
    {
     "data": {
      "text/plain": [
       "\"Iteration 120 -2060.5535192709685\""
      ]
     },
     "metadata": {},
     "output_type": "display_data"
    },
    {
     "data": {
      "text/plain": [
       "\"Iteration 121 -1949.518181457218\""
      ]
     },
     "metadata": {},
     "output_type": "display_data"
    },
    {
     "data": {
      "text/plain": [
       "\"Iteration 122 -1952.78904923031\""
      ]
     },
     "metadata": {},
     "output_type": "display_data"
    },
    {
     "data": {
      "text/plain": [
       "\"Iteration 123 -2000.9738932013327\""
      ]
     },
     "metadata": {},
     "output_type": "display_data"
    },
    {
     "data": {
      "text/plain": [
       "\"Iteration 124 -2099.798320407929\""
      ]
     },
     "metadata": {},
     "output_type": "display_data"
    },
    {
     "data": {
      "text/plain": [
       "\"Iteration 125 -2093.411012505818\""
      ]
     },
     "metadata": {},
     "output_type": "display_data"
    },
    {
     "data": {
      "text/plain": [
       "\"Iteration 126 -1966.694448941153\""
      ]
     },
     "metadata": {},
     "output_type": "display_data"
    },
    {
     "data": {
      "text/plain": [
       "\"Iteration 127 -1943.7472773324391\""
      ]
     },
     "metadata": {},
     "output_type": "display_data"
    },
    {
     "data": {
      "text/plain": [
       "\"Iteration 128 -2001.3031484555793\""
      ]
     },
     "metadata": {},
     "output_type": "display_data"
    },
    {
     "data": {
      "text/plain": [
       "\"Iteration 129 -2032.0800170265766\""
      ]
     },
     "metadata": {},
     "output_type": "display_data"
    },
    {
     "data": {
      "text/plain": [
       "\"Iteration 130 -1923.241793347899\""
      ]
     },
     "metadata": {},
     "output_type": "display_data"
    },
    {
     "data": {
      "text/plain": [
       "\"Iteration 131 -1910.3122495794478\""
      ]
     },
     "metadata": {},
     "output_type": "display_data"
    },
    {
     "data": {
      "text/plain": [
       "\"Iteration 132 -1996.2578334156574\""
      ]
     },
     "metadata": {},
     "output_type": "display_data"
    },
    {
     "data": {
      "text/plain": [
       "\"Iteration 133 -1957.6409762797805\""
      ]
     },
     "metadata": {},
     "output_type": "display_data"
    },
    {
     "data": {
      "text/plain": [
       "\"Iteration 134 -1951.2053297682116\""
      ]
     },
     "metadata": {},
     "output_type": "display_data"
    },
    {
     "data": {
      "text/plain": [
       "\"Iteration 135 -1976.5174852613877\""
      ]
     },
     "metadata": {},
     "output_type": "display_data"
    },
    {
     "data": {
      "text/plain": [
       "\"Iteration 136 -1908.6343265168282\""
      ]
     },
     "metadata": {},
     "output_type": "display_data"
    },
    {
     "data": {
      "text/plain": [
       "\"Iteration 137 -1925.3980986570036\""
      ]
     },
     "metadata": {},
     "output_type": "display_data"
    },
    {
     "data": {
      "text/plain": [
       "\"Iteration 138 -1887.3830020508765\""
      ]
     },
     "metadata": {},
     "output_type": "display_data"
    },
    {
     "data": {
      "text/plain": [
       "\"Iteration 139 -1918.5944250428877\""
      ]
     },
     "metadata": {},
     "output_type": "display_data"
    },
    {
     "data": {
      "text/plain": [
       "\"Iteration 140 -1991.5230883643699\""
      ]
     },
     "metadata": {},
     "output_type": "display_data"
    },
    {
     "data": {
      "text/plain": [
       "\"Iteration 141 -2025.4096647444849\""
      ]
     },
     "metadata": {},
     "output_type": "display_data"
    },
    {
     "data": {
      "text/plain": [
       "\"Iteration 142 -1925.7028873309512\""
      ]
     },
     "metadata": {},
     "output_type": "display_data"
    },
    {
     "data": {
      "text/plain": [
       "\"Iteration 143 -1950.1036384208073\""
      ]
     },
     "metadata": {},
     "output_type": "display_data"
    },
    {
     "data": {
      "text/plain": [
       "\"Iteration 144 -2057.729579572335\""
      ]
     },
     "metadata": {},
     "output_type": "display_data"
    },
    {
     "data": {
      "text/plain": [
       "\"Iteration 145 -2017.467800560341\""
      ]
     },
     "metadata": {},
     "output_type": "display_data"
    },
    {
     "data": {
      "text/plain": [
       "\"Iteration 146 -1859.708833399075\""
      ]
     },
     "metadata": {},
     "output_type": "display_data"
    },
    {
     "data": {
      "text/plain": [
       "\"Iteration 147 -1888.4565974368297\""
      ]
     },
     "metadata": {},
     "output_type": "display_data"
    },
    {
     "data": {
      "text/plain": [
       "\"Iteration 148 -1939.0910823624286\""
      ]
     },
     "metadata": {},
     "output_type": "display_data"
    },
    {
     "data": {
      "text/plain": [
       "\"Iteration 149 -1948.19136384097\""
      ]
     },
     "metadata": {},
     "output_type": "display_data"
    },
    {
     "data": {
      "text/plain": [
       "\"Iteration 150 -1919.7321499975917\""
      ]
     },
     "metadata": {},
     "output_type": "display_data"
    },
    {
     "data": {
      "text/plain": [
       "\"Iteration 151 -1950.7692580396708\""
      ]
     },
     "metadata": {},
     "output_type": "display_data"
    },
    {
     "data": {
      "text/plain": [
       "\"Iteration 152 -1890.3043823100202\""
      ]
     },
     "metadata": {},
     "output_type": "display_data"
    },
    {
     "data": {
      "text/plain": [
       "\"Iteration 153 -1905.7101972997893\""
      ]
     },
     "metadata": {},
     "output_type": "display_data"
    },
    {
     "data": {
      "text/plain": [
       "\"Iteration 154 -1888.98786569496\""
      ]
     },
     "metadata": {},
     "output_type": "display_data"
    },
    {
     "data": {
      "text/plain": [
       "\"Iteration 155 -1905.1120590604025\""
      ]
     },
     "metadata": {},
     "output_type": "display_data"
    },
    {
     "data": {
      "text/plain": [
       "\"Iteration 156 -1940.6845582157573\""
      ]
     },
     "metadata": {},
     "output_type": "display_data"
    },
    {
     "data": {
      "text/plain": [
       "\"Iteration 157 -2026.209087976532\""
      ]
     },
     "metadata": {},
     "output_type": "display_data"
    },
    {
     "data": {
      "text/plain": [
       "\"Iteration 158 -1931.0174026672742\""
      ]
     },
     "metadata": {},
     "output_type": "display_data"
    },
    {
     "data": {
      "text/plain": [
       "\"Iteration 159 -1857.8731177192637\""
      ]
     },
     "metadata": {},
     "output_type": "display_data"
    },
    {
     "data": {
      "text/plain": [
       "\"Iteration 160 -1905.7424392670107\""
      ]
     },
     "metadata": {},
     "output_type": "display_data"
    }
   ],
   "source": [
    "step_size = 0.1\n",
    "decay = 0.9\n",
    "eps = 1e-8\n",
    "nsteps = 160\n",
    "\n",
    "for jj in 1:nsteps\n",
    "    ∇L(gg, yy)\n",
    "    nn = norm(gg)\n",
    "    if nn/length(gg) > 10.\n",
    "        gg /= norm(gg)  # crude gradient clipping\n",
    "    end\n",
    "    if firstpass == false\n",
    "        avg_sq_grad = avg_sq_grad * decay + gg.^2 * (1 - decay)\n",
    "    else\n",
    "        avg_sq_grad = gg.^2\n",
    "        firstpass = false\n",
    "    end\n",
    "    yy += step_size * gg ./(sqrt(avg_sq_grad) + eps)\n",
    "    push!(elbo, ELBO(yy))\n",
    "    display(\"Iteration $(length(elbo)) $(elbo[end])\")\n",
    "end"
   ]
  },
  {
   "cell_type": "code",
   "execution_count": 17,
   "metadata": {
    "collapsed": false,
    "slideshow": {
     "slide_type": "slide"
    }
   },
   "outputs": [
    {
     "data": {
      "image/png": "[encoded data removed]",
      "text/plain": [
       "PyPlot.Figure(PyObject <matplotlib.figure.Figure object at 0x32793af10>)"
      ]
     },
     "metadata": {},
     "output_type": "display_data"
    },
    {
     "data": {
      "text/plain": [
       "1-element Array{Any,1}:\n",
       " PyObject <matplotlib.lines.Line2D object at 0x327bd7b50>"
      ]
     },
     "execution_count": 17,
     "metadata": {},
     "output_type": "execute_result"
    }
   ],
   "source": [
    "plot(elbo)"
   ]
  },
  {
   "cell_type": "markdown",
   "metadata": {
    "slideshow": {
     "slide_type": "fragment"
    }
   },
   "source": [
    "# Moving forward with ReverseDiff\n",
    "\n",
    "- forward mode autodiff for $f: \\mathbb{R}^n \\rightarrow \\mathbb{R}$ is $\\mathcal{O}(n)$\n",
    "- reverse mode is only $\\mathcal{O}(1)$\n",
    "- reverse mode lies behind Theano, TensorFlow, Stan\n",
    "\n",
    "Once distributions are parametric, defining a new type that **just works** becomes easy\n",
    "- same(-ish) idea as ForwardDiff.jl\n",
    "- caveat: egregious memory usage"
   ]
  },
  {
   "cell_type": "code",
   "execution_count": 18,
   "metadata": {
    "collapsed": false,
    "slideshow": {
     "slide_type": "skip"
    }
   },
   "outputs": [
    {
     "name": "stderr",
     "output_type": "stream",
     "text": [
      "WARNING: using DataStructures.update! in module Main conflicts with an existing identifier.\n"
     ]
    },
    {
     "data": {
      "text/plain": [
       "backprop (generic function with 3 methods)"
      ]
     },
     "execution_count": 18,
     "metadata": {},
     "output_type": "execute_result"
    }
   ],
   "source": [
    "include(\"/Users/jmxp/code/rdiff/prototype6.jl\")"
   ]
  },
  {
   "cell_type": "markdown",
   "metadata": {
    "slideshow": {
     "slide_type": "slide"
    }
   },
   "source": [
    "<img src=\"https://media.giphy.com/media/26AHLBZUC1n53ozi8/giphy.gif\" width=\"400\">"
   ]
  },
  {
   "cell_type": "code",
   "execution_count": 19,
   "metadata": {
    "collapsed": false,
    "slideshow": {
     "slide_type": "-"
    }
   },
   "outputs": [
    {
     "name": "stdout",
     "output_type": "stream",
     "text": [
      "  1.447133 seconds (8.04 M allocations: 679.577 MB, 6.46% gc time)\n",
      "  0.025645 seconds (155.60 k allocations: 5.186 MB)\n"
     ]
    }
   ],
   "source": [
    "@time ∇L(stor, xx)\n",
    "∇L_r = grad(ELBO, length(xx))\n",
    "rstor = similar(xx)\n",
    "∇L_r(xx, rstor);\n",
    "@time ∇L_r(xx, rstor);"
   ]
  },
  {
   "cell_type": "markdown",
   "metadata": {
    "slideshow": {
     "slide_type": "slide"
    }
   },
   "source": [
    "# VinDsl needs your help!\n",
    "\n",
    "![](http://cdn.badassdigest.com/uploads/images/30118/the_pacifier02crop__index.jpg)\n",
    "\n",
    "Still finalizing API\n",
    "- docs\n",
    "- tests\n",
    "- better ideas!\n",
    "- Reverse mode!"
   ]
  }
 ],
 "metadata": {
  "celltoolbar": "Slideshow",
  "kernelspec": {
   "display_name": "Julia 0.4.6",
   "language": "julia",
   "name": "julia-0.4"
  },
  "language_info": {
   "file_extension": ".jl",
   "mimetype": "application/julia",
   "name": "julia",
   "version": "0.4.6"
  }
 },
 "nbformat": 4,
 "nbformat_minor": 0
}
